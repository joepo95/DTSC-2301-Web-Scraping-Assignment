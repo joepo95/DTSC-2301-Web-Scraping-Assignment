{
 "cells": [
  {
   "cell_type": "code",
   "execution_count": 1,
   "id": "ed6dd17f",
   "metadata": {},
   "outputs": [],
   "source": [
    "import requests\n",
    "import pandas as pd\n",
    "from bs4 import BeautifulSoup"
   ]
  },
  {
   "cell_type": "code",
   "execution_count": 2,
   "id": "445b7e9c",
   "metadata": {},
   "outputs": [
    {
     "name": "stdout",
     "output_type": "stream",
     "text": [
      "<Response [200]>\n"
     ]
    }
   ],
   "source": [
    "url = \"https://webpages.charlotte.edu/mscipion/\"\n",
    "\n",
    "r= requests.get(url)\n",
    "print(r)"
   ]
  },
  {
   "cell_type": "code",
   "execution_count": 3,
   "id": "e936cd33",
   "metadata": {},
   "outputs": [],
   "source": [
    "soup = BeautifulSoup(r.text, \"lxml\")"
   ]
  },
  {
   "cell_type": "code",
   "execution_count": 4,
   "id": "6b9e6d1f",
   "metadata": {},
   "outputs": [
    {
     "name": "stdout",
     "output_type": "stream",
     "text": [
      "<table>\n",
      "<tr>\n",
      "<th>Student</th>\n",
      "<th>Favourite Computer Language</th>\n",
      "<th>Years of Experience</th>\n",
      "</tr>\n",
      "<tr>\n",
      "<td>Fred</td>\n",
      "<td>Kotlin</td>\n",
      "<td>4</td>\n",
      "</tr>\n",
      "<tr>\n",
      "<td>Paula</td>\n",
      "<td>Python</td>\n",
      "<td>2</td>\n",
      "</tr>\n",
      "<tr>\n",
      "<td>Ernst</td>\n",
      "<td>Java</td>\n",
      "<td>7</td>\n",
      "</tr>\n",
      "<tr>\n",
      "<td>Isabel</td>\n",
      "<td>C++</td>\n",
      "<td>3</td>\n",
      "</tr>\n",
      "<tr>\n",
      "<td>Tony</td>\n",
      "<td>Pearl</td>\n",
      "<td>7</td>\n",
      "</tr>\n",
      "<tr>\n",
      "<td>Maria</td>\n",
      "<td>Cobol</td>\n",
      "<td>15</td>\n",
      "</tr></table>\n"
     ]
    }
   ],
   "source": [
    "table = soup.find(\"table\")\n",
    "print(table)"
   ]
  },
  {
   "cell_type": "code",
   "execution_count": 5,
   "id": "fb1f492e",
   "metadata": {},
   "outputs": [
    {
     "name": "stdout",
     "output_type": "stream",
     "text": [
      "[<th>Student</th>, <th>Favourite Computer Language</th>, <th>Years of Experience</th>]\n"
     ]
    }
   ],
   "source": [
    "headers = table.find_all(\"th\")\n",
    "print(headers)"
   ]
  },
  {
   "cell_type": "code",
   "execution_count": 6,
   "id": "632f6a7c",
   "metadata": {},
   "outputs": [
    {
     "name": "stdout",
     "output_type": "stream",
     "text": [
      "['Student', 'Favourite Computer Language', 'Years of Experience']\n"
     ]
    }
   ],
   "source": [
    "titles = []\n",
    "\n",
    "for i in headers:\n",
    "    title = i.text\n",
    "    titles.append(title)\n",
    "    \n",
    "print(titles)"
   ]
  },
  {
   "cell_type": "code",
   "execution_count": 7,
   "id": "4b0876da",
   "metadata": {},
   "outputs": [
    {
     "name": "stdout",
     "output_type": "stream",
     "text": [
      "Empty DataFrame\n",
      "Columns: [Student, Favourite Computer Language, Years of Experience]\n",
      "Index: []\n"
     ]
    }
   ],
   "source": [
    "df= pd.DataFrame(columns=titles)\n",
    "print(df)"
   ]
  },
  {
   "cell_type": "code",
   "execution_count": 8,
   "id": "f28854a5",
   "metadata": {},
   "outputs": [
    {
     "name": "stdout",
     "output_type": "stream",
     "text": [
      "<tr>\n",
      "<td>Fred</td>\n",
      "<td>Kotlin</td>\n",
      "<td>4</td>\n",
      "</tr>\n",
      "<tr>\n",
      "<td>Paula</td>\n",
      "<td>Python</td>\n",
      "<td>2</td>\n",
      "</tr>\n",
      "<tr>\n",
      "<td>Ernst</td>\n",
      "<td>Java</td>\n",
      "<td>7</td>\n",
      "</tr>\n",
      "<tr>\n",
      "<td>Isabel</td>\n",
      "<td>C++</td>\n",
      "<td>3</td>\n",
      "</tr>\n",
      "<tr>\n",
      "<td>Tony</td>\n",
      "<td>Pearl</td>\n",
      "<td>7</td>\n",
      "</tr>\n",
      "<tr>\n",
      "<td>Maria</td>\n",
      "<td>Cobol</td>\n",
      "<td>15</td>\n",
      "</tr>\n"
     ]
    }
   ],
   "source": [
    "rows = table.find_all(\"tr\")\n",
    "for i in rows[1:]:\n",
    "    print(i)     "
   ]
  },
  {
   "cell_type": "code",
   "execution_count": 9,
   "id": "407772aa",
   "metadata": {},
   "outputs": [
    {
     "name": "stdout",
     "output_type": "stream",
     "text": [
      "[<td>Fred</td>, <td>Kotlin</td>, <td>4</td>, <td>Paula</td>, <td>Python</td>, <td>2</td>, <td>Ernst</td>, <td>Java</td>, <td>7</td>, <td>Isabel</td>, <td>C++</td>, <td>3</td>, <td>Tony</td>, <td>Pearl</td>, <td>7</td>, <td>Maria</td>, <td>Cobol</td>, <td>15</td>]\n",
      "['Fred', 'Kotlin', '4', 'Paula', 'Python', '2', 'Ernst', 'Java', '7', 'Isabel', 'C++', '3', 'Tony', 'Pearl', '7', 'Maria', 'Cobol', '15']\n",
      "[<td>Fred</td>, <td>Kotlin</td>, <td>4</td>, <td>Paula</td>, <td>Python</td>, <td>2</td>, <td>Ernst</td>, <td>Java</td>, <td>7</td>, <td>Isabel</td>, <td>C++</td>, <td>3</td>, <td>Tony</td>, <td>Pearl</td>, <td>7</td>, <td>Maria</td>, <td>Cobol</td>, <td>15</td>]\n",
      "['Fred', 'Kotlin', '4', 'Paula', 'Python', '2', 'Ernst', 'Java', '7', 'Isabel', 'C++', '3', 'Tony', 'Pearl', '7', 'Maria', 'Cobol', '15']\n",
      "[<td>Fred</td>, <td>Kotlin</td>, <td>4</td>, <td>Paula</td>, <td>Python</td>, <td>2</td>, <td>Ernst</td>, <td>Java</td>, <td>7</td>, <td>Isabel</td>, <td>C++</td>, <td>3</td>, <td>Tony</td>, <td>Pearl</td>, <td>7</td>, <td>Maria</td>, <td>Cobol</td>, <td>15</td>]\n",
      "['Fred', 'Kotlin', '4', 'Paula', 'Python', '2', 'Ernst', 'Java', '7', 'Isabel', 'C++', '3', 'Tony', 'Pearl', '7', 'Maria', 'Cobol', '15']\n",
      "[<td>Fred</td>, <td>Kotlin</td>, <td>4</td>, <td>Paula</td>, <td>Python</td>, <td>2</td>, <td>Ernst</td>, <td>Java</td>, <td>7</td>, <td>Isabel</td>, <td>C++</td>, <td>3</td>, <td>Tony</td>, <td>Pearl</td>, <td>7</td>, <td>Maria</td>, <td>Cobol</td>, <td>15</td>]\n",
      "['Fred', 'Kotlin', '4', 'Paula', 'Python', '2', 'Ernst', 'Java', '7', 'Isabel', 'C++', '3', 'Tony', 'Pearl', '7', 'Maria', 'Cobol', '15']\n",
      "[<td>Fred</td>, <td>Kotlin</td>, <td>4</td>, <td>Paula</td>, <td>Python</td>, <td>2</td>, <td>Ernst</td>, <td>Java</td>, <td>7</td>, <td>Isabel</td>, <td>C++</td>, <td>3</td>, <td>Tony</td>, <td>Pearl</td>, <td>7</td>, <td>Maria</td>, <td>Cobol</td>, <td>15</td>]\n",
      "['Fred', 'Kotlin', '4', 'Paula', 'Python', '2', 'Ernst', 'Java', '7', 'Isabel', 'C++', '3', 'Tony', 'Pearl', '7', 'Maria', 'Cobol', '15']\n",
      "[<td>Fred</td>, <td>Kotlin</td>, <td>4</td>, <td>Paula</td>, <td>Python</td>, <td>2</td>, <td>Ernst</td>, <td>Java</td>, <td>7</td>, <td>Isabel</td>, <td>C++</td>, <td>3</td>, <td>Tony</td>, <td>Pearl</td>, <td>7</td>, <td>Maria</td>, <td>Cobol</td>, <td>15</td>]\n",
      "['Fred', 'Kotlin', '4', 'Paula', 'Python', '2', 'Ernst', 'Java', '7', 'Isabel', 'C++', '3', 'Tony', 'Pearl', '7', 'Maria', 'Cobol', '15']\n"
     ]
    }
   ],
   "source": [
    "for i in rows[1:]:\n",
    "    data = table.find_all(\"td\")\n",
    "    print(data)\n",
    "    row = [tr.text for tr in data]\n",
    "    print(row)\n"
   ]
  },
  {
   "cell_type": "code",
   "execution_count": 10,
   "id": "477c3cf0",
   "metadata": {},
   "outputs": [
    {
     "data": {
      "text/plain": [
       "[<tr>\n",
       " <td>Fred</td>\n",
       " <td>Kotlin</td>\n",
       " <td>4</td>\n",
       " </tr>]"
      ]
     },
     "execution_count": 10,
     "metadata": {},
     "output_type": "execute_result"
    }
   ],
   "source": [
    "rows[1:2]"
   ]
  },
  {
   "cell_type": "code",
   "execution_count": 11,
   "id": "e2ab024b",
   "metadata": {},
   "outputs": [
    {
     "data": {
      "text/html": [
       "<div>\n",
       "<style scoped>\n",
       "    .dataframe tbody tr th:only-of-type {\n",
       "        vertical-align: middle;\n",
       "    }\n",
       "\n",
       "    .dataframe tbody tr th {\n",
       "        vertical-align: top;\n",
       "    }\n",
       "\n",
       "    .dataframe thead th {\n",
       "        text-align: right;\n",
       "    }\n",
       "</style>\n",
       "<table border=\"1\" class=\"dataframe\">\n",
       "  <thead>\n",
       "    <tr style=\"text-align: right;\">\n",
       "      <th></th>\n",
       "      <th>Student</th>\n",
       "      <th>Favourite Computer Language</th>\n",
       "      <th>Years of Experience</th>\n",
       "    </tr>\n",
       "  </thead>\n",
       "  <tbody>\n",
       "    <tr>\n",
       "      <th>0</th>\n",
       "      <td>Fred</td>\n",
       "      <td>Kotlin</td>\n",
       "      <td>4</td>\n",
       "    </tr>\n",
       "    <tr>\n",
       "      <th>1</th>\n",
       "      <td>Paula</td>\n",
       "      <td>Python</td>\n",
       "      <td>2</td>\n",
       "    </tr>\n",
       "    <tr>\n",
       "      <th>2</th>\n",
       "      <td>Ernst</td>\n",
       "      <td>Java</td>\n",
       "      <td>7</td>\n",
       "    </tr>\n",
       "    <tr>\n",
       "      <th>3</th>\n",
       "      <td>Isabel</td>\n",
       "      <td>C++</td>\n",
       "      <td>3</td>\n",
       "    </tr>\n",
       "    <tr>\n",
       "      <th>4</th>\n",
       "      <td>Tony</td>\n",
       "      <td>Pearl</td>\n",
       "      <td>7</td>\n",
       "    </tr>\n",
       "    <tr>\n",
       "      <th>5</th>\n",
       "      <td>Maria</td>\n",
       "      <td>Cobol</td>\n",
       "      <td>15</td>\n",
       "    </tr>\n",
       "  </tbody>\n",
       "</table>\n",
       "</div>"
      ],
      "text/plain": [
       "  Student Favourite Computer Language Years of Experience\n",
       "0    Fred                      Kotlin                   4\n",
       "1   Paula                      Python                   2\n",
       "2   Ernst                        Java                   7\n",
       "3  Isabel                         C++                   3\n",
       "4    Tony                       Pearl                   7\n",
       "5   Maria                       Cobol                  15"
      ]
     },
     "execution_count": 11,
     "metadata": {},
     "output_type": "execute_result"
    }
   ],
   "source": [
    "for i in rows[1:]:\n",
    "    data = i.find_all(\"td\")            \n",
    "    row = [tr.text for tr in data]     \n",
    "    l =len(df)                         \n",
    "    df.loc[l]= row                     \n",
    "\n",
    "df.head(10)     "
   ]
  },
  {
   "cell_type": "code",
   "execution_count": 13,
   "id": "b74e7d05",
   "metadata": {},
   "outputs": [
    {
     "data": {
      "text/plain": [
       "(6, 3)"
      ]
     },
     "execution_count": 13,
     "metadata": {},
     "output_type": "execute_result"
    }
   ],
   "source": [
    "df.shape"
   ]
  },
  {
   "cell_type": "code",
   "execution_count": null,
   "id": "0b6ea1b8",
   "metadata": {},
   "outputs": [],
   "source": []
  }
 ],
 "metadata": {
  "kernelspec": {
   "display_name": "Python 3 (ipykernel)",
   "language": "python",
   "name": "python3"
  },
  "language_info": {
   "codemirror_mode": {
    "name": "ipython",
    "version": 3
   },
   "file_extension": ".py",
   "mimetype": "text/x-python",
   "name": "python",
   "nbconvert_exporter": "python",
   "pygments_lexer": "ipython3",
   "version": "3.11.4"
  },
  "varInspector": {
   "cols": {
    "lenName": 16,
    "lenType": 16,
    "lenVar": 40
   },
   "kernels_config": {
    "python": {
     "delete_cmd_postfix": "",
     "delete_cmd_prefix": "del ",
     "library": "var_list.py",
     "varRefreshCmd": "print(var_dic_list())"
    },
    "r": {
     "delete_cmd_postfix": ") ",
     "delete_cmd_prefix": "rm(",
     "library": "var_list.r",
     "varRefreshCmd": "cat(var_dic_list()) "
    }
   },
   "types_to_exclude": [
    "module",
    "function",
    "builtin_function_or_method",
    "instance",
    "_Feature"
   ],
   "window_display": false
  }
 },
 "nbformat": 4,
 "nbformat_minor": 5
}
